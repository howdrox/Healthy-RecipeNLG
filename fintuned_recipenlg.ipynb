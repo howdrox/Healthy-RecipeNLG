{
 "cells": [
  {
   "cell_type": "code",
   "execution_count": 1,
   "id": "3821a657",
   "metadata": {},
   "outputs": [
    {
     "name": "stderr",
     "output_type": "stream",
     "text": [
      "C:\\Users\\louis\\AppData\\Local\\Packages\\PythonSoftwareFoundation.Python.3.10_qbz5n2kfra8p0\\LocalCache\\local-packages\\Python310\\site-packages\\tqdm\\auto.py:21: TqdmWarning: IProgress not found. Please update jupyter and ipywidgets. See https://ipywidgets.readthedocs.io/en/stable/user_install.html\n",
      "  from .autonotebook import tqdm as notebook_tqdm\n"
     ]
    }
   ],
   "source": [
    "from transformers import AutoTokenizer, AutoModelForCausalLM\n",
    "import torch\n",
    "from utils import show_recipe"
   ]
  },
  {
   "cell_type": "code",
   "execution_count": 5,
   "id": "c33f464b",
   "metadata": {},
   "outputs": [
    {
     "name": "stderr",
     "output_type": "stream",
     "text": [
      "Setting `pad_token_id` to `eos_token_id`:50266 for open-end generation.\n"
     ]
    },
    {
     "name": "stdout",
     "output_type": "stream",
     "text": [
      "Model and tokenizer loaded.\n",
      "## Recipe Title: Melon and Strawberry Ice Cream\n",
      "\n",
      "Inputs (base ingredients):\n",
      "   - milk\n",
      "   - cream\n",
      "   - strawberry\n",
      "   - melon\n",
      "   - honey\n",
      "\n",
      "Ingredients:\n",
      "   - 2 cups milk\n",
      "   - 1 cup half-and-half cream\n",
      "   - 12 cup strawberry, hulled and quartered\n",
      "   - 8 ounces cantaloupe, peeled, seeded, and cut into 1/2-inch cubes\n",
      "   - 2 tablespoons honey\n",
      "\n",
      "Instructions:\n",
      "   1. In a medium saucepan, combine the milk and cream.\n",
      "   2. Bring to a boil over medium-high heat, then reduce the heat to low and simmer, stirring occasionally, until the mixture is thickened, about 5 minutes (do not let it boil).\n",
      "   3. Stir in the strawberries and melon; cover and refrigerate until chilled, at least 2 hours.\n"
     ]
    }
   ],
   "source": [
    "model_path = \"model/finetuned_recipenlg\"\n",
    "tokenizer = AutoTokenizer.from_pretrained(model_path)\n",
    "model = AutoModelForCausalLM.from_pretrained(model_path)\n",
    "\n",
    "device = \"cuda\" if torch.cuda.is_available() else \"cpu\"\n",
    "model.to(device)\n",
    "\n",
    "if tokenizer.pad_token is None:\n",
    "    tokenizer.pad_token = tokenizer.eos_token\n",
    "\n",
    "print(\"Model and tokenizer loaded.\")\n",
    "\n",
    "\n",
    "prompt = (\n",
    "    \"<RECIPE_START>\"\n",
    "    \"<INPUT_START>milk<NEXT_INPUT>cream<NEXT_INPUT>strawberry<NEXT_INPUT>melon<NEXT_INPUT>honey<INPUT_END>\"\n",
    ")\n",
    "\n",
    "inputs = tokenizer(\n",
    "    prompt,\n",
    "    return_tensors=\"pt\",\n",
    "    truncation=True,\n",
    "    max_length=400,\n",
    "    return_attention_mask=True,\n",
    ")\n",
    "input_ids = inputs[\"input_ids\"].to(device)\n",
    "attention_mask = inputs[\"attention_mask\"].to(device)\n",
    "\n",
    "outputs = model.generate(\n",
    "    input_ids=input_ids,\n",
    "    attention_mask=attention_mask,\n",
    "    max_length=400,\n",
    "    num_beams=5,\n",
    "    no_repeat_ngram_size=2,\n",
    "    early_stopping=True,\n",
    "    eos_token_id=tokenizer.convert_tokens_to_ids(\"<RECIPE_END>\"),\n",
    ")\n",
    "\n",
    "raw_recipe = tokenizer.decode(outputs[0])\n",
    "show_recipe(raw_recipe)"
   ]
  }
 ],
 "metadata": {
  "kernelspec": {
   "display_name": "Python 3",
   "language": "python",
   "name": "python3"
  },
  "language_info": {
   "codemirror_mode": {
    "name": "ipython",
    "version": 3
   },
   "file_extension": ".py",
   "mimetype": "text/x-python",
   "name": "python",
   "nbconvert_exporter": "python",
   "pygments_lexer": "ipython3",
   "version": "3.10.11"
  }
 },
 "nbformat": 4,
 "nbformat_minor": 5
}
