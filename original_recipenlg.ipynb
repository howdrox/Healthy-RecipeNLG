{
 "cells": [
  {
   "cell_type": "code",
   "execution_count": 3,
   "id": "e5f48555",
   "metadata": {},
   "outputs": [],
   "source": [
    "from transformers import AutoTokenizer, AutoModelForCausalLM\n",
    "import torch\n",
    "from utils import show_recipe"
   ]
  },
  {
   "cell_type": "code",
   "execution_count": null,
   "id": "6e088226",
   "metadata": {},
   "outputs": [
    {
     "name": "stderr",
     "output_type": "stream",
     "text": [
      "Setting `pad_token_id` to `eos_token_id`:50266 for open-end generation.\n"
     ]
    },
    {
     "name": "stdout",
     "output_type": "stream",
     "text": [
      "\n",
      "========================================\n",
      "Recipe Title: Sun-Dried Tomato And Apple Smoothie\n",
      "\n",
      "→ Inputs (base ingredients):\n",
      "   • tomato\n",
      "   • apple\n",
      "   • milk\n",
      "   • honey\n",
      "\n",
      "→ Ingredients:\n",
      "   • 1/2 cup sun-dried tomato\n",
      "   • 1/2 cup dried apple\n",
      "   • 1/2 cup milk\n",
      "   • 1/4 cup honey\n",
      "\n",
      "→ Instructions:\n",
      "   1. Place all ingredients in a blender and blend until smooth.\n",
      "========================================\n",
      "\n"
     ]
    }
   ],
   "source": [
    "# Load the tokenizer and model from Hugging Face\n",
    "tokenizer = AutoTokenizer.from_pretrained(\"mbien/recipenlg\")\n",
    "model = AutoModelForCausalLM.from_pretrained(\"mbien/recipenlg\")\n",
    "\n",
    "device = \"cuda\" if torch.cuda.is_available() else \"cpu\"\n",
    "model.to(device)\n",
    "\n",
    "# Prompt for recipe generation\n",
    "prompt = (\n",
    "    \"<RECIPE_START>\"\n",
    "    \"<INPUT_START>melon<NEXT_INPUT>apple<NEXT_INPUT>milk<NEXT_INPUT>honey<INPUT_END>\"\n",
    ")\n",
    "# Tokenize the input\n",
    "inputs = tokenizer(\n",
    "    prompt,\n",
    "    return_tensors=\"pt\",\n",
    "    truncation=True,\n",
    "    max_length=400,\n",
    "    return_attention_mask=True,\n",
    ")\n",
    "input_ids = inputs[\"input_ids\"].to(device)\n",
    "attention_mask = inputs[\"attention_mask\"].to(device)\n",
    "\n",
    "# Generate output\n",
    "outputs = model.generate(\n",
    "    input_ids=input_ids,\n",
    "    attention_mask=attention_mask,\n",
    "    max_length=400,\n",
    "    num_beams=5,\n",
    "    # no_repeat_ngram_size=2,  # optional: avoid repeating bigrams\n",
    "    early_stopping=True,\n",
    "    eos_token_id=tokenizer.convert_tokens_to_ids(\"<RECIPE_END>\"),\n",
    ")\n",
    "\n",
    "# Decode and print the generated recipe\n",
    "raw_recipe = tokenizer.decode(outputs[0])\n",
    "show_recipe(raw_recipe)"
   ]
  }
 ],
 "metadata": {
  "kernelspec": {
   "display_name": "Python 3",
   "language": "python",
   "name": "python3"
  },
  "language_info": {
   "codemirror_mode": {
    "name": "ipython",
    "version": 3
   },
   "file_extension": ".py",
   "mimetype": "text/x-python",
   "name": "python",
   "nbconvert_exporter": "python",
   "pygments_lexer": "ipython3",
   "version": "3.10.11"
  }
 },
 "nbformat": 4,
 "nbformat_minor": 5
}
