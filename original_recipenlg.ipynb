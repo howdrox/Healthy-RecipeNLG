{
 "cells": [
  {
   "cell_type": "code",
   "execution_count": 2,
   "id": "e5f48555",
   "metadata": {},
   "outputs": [
    {
     "name": "stderr",
     "output_type": "stream",
     "text": [
      "C:\\Users\\louis\\AppData\\Local\\Packages\\PythonSoftwareFoundation.Python.3.10_qbz5n2kfra8p0\\LocalCache\\local-packages\\Python310\\site-packages\\tqdm\\auto.py:21: TqdmWarning: IProgress not found. Please update jupyter and ipywidgets. See https://ipywidgets.readthedocs.io/en/stable/user_install.html\n",
      "  from .autonotebook import tqdm as notebook_tqdm\n"
     ]
    }
   ],
   "source": [
    "from transformers import AutoTokenizer, AutoModelForCausalLM\n",
    "import torch\n",
    "from utils import show_recipe"
   ]
  },
  {
   "cell_type": "code",
   "execution_count": 10,
   "id": "6e088226",
   "metadata": {},
   "outputs": [
    {
     "name": "stderr",
     "output_type": "stream",
     "text": [
      "Setting `pad_token_id` to `eos_token_id`:50266 for open-end generation.\n"
     ]
    },
    {
     "name": "stdout",
     "output_type": "stream",
     "text": [
      "## Recipe Title: Raspberry-Melon Chutney\n",
      "\n",
      "Inputs (base ingredients):\n",
      "   - milk\n",
      "   - cream\n",
      "   - strawberry\n",
      "   - melon\n",
      "   - honey\n",
      "   - salmon\n",
      "\n",
      "Ingredients:\n",
      "   - 1 cup whole milk\n",
      "   - 1/2 cup half-and-half cream\n",
      "   - 3/4 cup fresh or frozen unsweetened raspberries, thawed\n",
      "   - 2/3 cup sliced strawberries, hulled and halved\n",
      "   - 4 cups cubed peeled honeydew melon (about 2 pounds)\n",
      "   - 8 ounces sliced salmon, cut into 1-inch pieces\n",
      "\n",
      "Instructions:\n",
      "   1. Combine first 4 ingredients in a large saucepan; bring to a boil. Reduce heat, and simmer, uncovered, 10 minutes or until slightly thickened, stirring occasionally. Remove from heat; stir in fruit. Cool to room temperature. Cover and chill at least 2 hours.\n"
     ]
    }
   ],
   "source": [
    "# Load the tokenizer and model from Hugging Face\n",
    "tokenizer = AutoTokenizer.from_pretrained(\"mbien/recipenlg\")\n",
    "model = AutoModelForCausalLM.from_pretrained(\"mbien/recipenlg\")\n",
    "\n",
    "device = \"cuda\" if torch.cuda.is_available() else \"cpu\"\n",
    "model.to(device)\n",
    "\n",
    "# Prompt for recipe generation\n",
    "prompt = (\n",
    "    \"Give me a healthy recipe using the following ingredients, you don't have to use all of them:\"\n",
    "    \"<RECIPE_START>\"\n",
    "    \"<INPUT_START>milk<NEXT_INPUT>cream<NEXT_INPUT>strawberry<NEXT_INPUT>melon<NEXT_INPUT>honey<NEXT_INPUT>salmon<INPUT_END>\"\n",
    ")\n",
    "\n",
    "# Tokenize the input\n",
    "inputs = tokenizer(\n",
    "    prompt,\n",
    "    return_tensors=\"pt\",\n",
    "    truncation=True,\n",
    "    max_length=512,\n",
    "    return_attention_mask=True,\n",
    ")\n",
    "input_ids = inputs[\"input_ids\"].to(device)\n",
    "attention_mask = inputs[\"attention_mask\"].to(device)\n",
    "\n",
    "# Generate output\n",
    "outputs = model.generate(\n",
    "    input_ids=input_ids,\n",
    "    attention_mask=attention_mask,\n",
    "    max_length=512,\n",
    "    num_beams=5,\n",
    "    no_repeat_ngram_size=2,  # optional: avoid repeating bigrams\n",
    "    early_stopping=True,\n",
    "    eos_token_id=tokenizer.convert_tokens_to_ids(\"<RECIPE_END>\"),\n",
    ")\n",
    "\n",
    "# Decode and print the generated recipe\n",
    "raw_recipe = tokenizer.decode(outputs[0])\n",
    "show_recipe(raw_recipe)"
   ]
  }
 ],
 "metadata": {
  "kernelspec": {
   "display_name": "Python 3",
   "language": "python",
   "name": "python3"
  },
  "language_info": {
   "codemirror_mode": {
    "name": "ipython",
    "version": 3
   },
   "file_extension": ".py",
   "mimetype": "text/x-python",
   "name": "python",
   "nbconvert_exporter": "python",
   "pygments_lexer": "ipython3",
   "version": "3.10.11"
  }
 },
 "nbformat": 4,
 "nbformat_minor": 5
}
